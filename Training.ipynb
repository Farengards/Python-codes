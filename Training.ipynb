{
  "nbformat": 4,
  "nbformat_minor": 0,
  "metadata": {
    "colab": {
      "name": "treinando.ipynb",
      "provenance": [],
      "authorship_tag": "ABX9TyNEh7Lb8QbifFdv0ZASianE",
      "include_colab_link": true
    },
    "kernelspec": {
      "name": "python3",
      "display_name": "Python 3"
    },
    "language_info": {
      "name": "python"
    }
  },
  "cells": [
    {
      "cell_type": "markdown",
      "metadata": {
        "id": "view-in-github",
        "colab_type": "text"
      },
      "source": [
        "<a href=\"https://colab.research.google.com/github/Farengards/Python-codes/blob/main/Training.ipynb\" target=\"_parent\"><img src=\"https://colab.research.google.com/assets/colab-badge.svg\" alt=\"Open In Colab\"/></a>"
      ]
    },
    {
      "cell_type": "markdown",
      "source": [
        "Exercícios apenas para treinar ou lembrar de alguma coisa "
      ],
      "metadata": {
        "id": "t4P0FixRnKJg"
      }
    },
    {
      "cell_type": "markdown",
      "source": [
        "Crie um programa que receba dois números e faça a soma entre eles."
      ],
      "metadata": {
        "id": "btXQK3gHdNYl"
      }
    },
    {
      "cell_type": "code",
      "source": [
        "# training 1\n",
        "def receber_numeros():\n",
        "  n1 = float(input(\"Digite o primeor número:\"))\n",
        "  n2 = float(input(\"Digite o segundo número:\"))\n",
        "  soma = n1 + n2\n",
        "  return soma\n",
        "# program start\n",
        "print(\"-=\"*40)\n",
        "resultado = receber_numeros()\n",
        "print(\"-=\"*40)\n",
        "print(resultado)"
      ],
      "metadata": {
        "id": "gSmx9d_OnRK5"
      },
      "execution_count": null,
      "outputs": []
    },
    {
      "cell_type": "markdown",
      "source": [
        "Crie um programa que transforme uma medida em metros para milimetros"
      ],
      "metadata": {
        "id": "bQA6haK0dY1k"
      }
    },
    {
      "cell_type": "code",
      "source": [
        "# training 2\n",
        "def mudar_medida():\n",
        " metro = float(input(\"Digite em metros a medida que deseja transformar para milimetros:\"))\n",
        " mudar = (metro*1000)\n",
        " return mudar\n",
        "# program start\n",
        "print(\"-=\"*40)\n",
        "interacao = mudar_medida()\n",
        "print(\"-=\"*40)\n",
        "print(interacao)"
      ],
      "metadata": {
        "id": "WSPn100FZSh-"
      },
      "execution_count": null,
      "outputs": []
    },
    {
      "cell_type": "markdown",
      "source": [
        "Crie um programa que receba os dias,horas e minutos de um usuario e transformeos em segundos."
      ],
      "metadata": {
        "id": "ud9mBdsudeeU"
      }
    },
    {
      "cell_type": "code",
      "source": [
        "# training 3\n",
        "def minutagem():\n",
        "  dias = int(input(\"Qunatidade de dias:\"))\n",
        "  horas = int(input(\"Quantidade de horas:\"))\n",
        "  minutos = int(input(\"Quantidade de minutos:\"))\n",
        "  calculo = (dias*86400)+(horas*3600)+(minutos*60)\n",
        "  return calculo\n",
        "# program start\n",
        "print(\"-=\"*40)\n",
        "info = minutagem()\n",
        "print(\"-=\"*40)\n",
        "print(info)"
      ],
      "metadata": {
        "id": "r4xcCfLpa2Pf"
      },
      "execution_count": null,
      "outputs": []
    },
    {
      "cell_type": "markdown",
      "source": [
        "Crie um programa que mostre o aumento de um salario de um funcinário,ele deve solicitar o valor do salario e a porcentagem de aumento."
      ],
      "metadata": {
        "id": "fg-MGLpDdpsk"
      }
    },
    {
      "cell_type": "code",
      "source": [
        "# training 4\n",
        "def aumento():\n",
        "  global salario\n",
        "  salario = float(input(\"Digite o valor do salário do funcionário:\"))\n",
        "  porcentagem = int(input(\"digite a porcentagem de aumento do salário:\"))\n",
        "  conta = (salario/100)*porcentagem\n",
        "  return conta\n",
        "# program start\n",
        "print(\"-=\"*40)\n",
        "Aumento = aumento()\n",
        "print(\"-=\"*40)\n",
        "print(Aumento+salario)\n",
        "# To make a variable global you must do what is in code line number 3 and then decide what this variable will do."
      ],
      "metadata": {
        "id": "a7EOJqdheEk1"
      },
      "execution_count": null,
      "outputs": []
    },
    {
      "cell_type": "markdown",
      "source": [
        "Crie um programa que solicite o preço de uma mercadoria e em seguida solicite o pércentual de desconto e mostre o total a se pagar por essa mercadoria."
      ],
      "metadata": {
        "id": "Up94sB6vg5vr"
      }
    },
    {
      "cell_type": "code",
      "source": [
        "# training 5 \n",
        "def produto():\n",
        "  global produto\n",
        "  global desconto\n",
        "  global conta\n",
        "  global valor_final\n",
        "  print(\"-=\"*40)\n",
        "  produto = float(input(\"Digite o valor do produto:\"))\n",
        "  print(\"-=\"*40)\n",
        "  desconto = int(input(\"Digite o pescentual de desconto que sera aplicado no produto escolhido:\"))\n",
        "  print(\"-=\"*40)\n",
        "  conta = (produto/100)*desconto\n",
        "  valor_final = produto-conta\n",
        "  return conta\n",
        "# program start\n",
        "descont = produto()\n",
        "print(\"-=\"*40)\n",
        "print(\"O valor do produto é R${} e recebeu um desconto de {}% e acabou com o valor total de R${}\".format(produto,desconto,valor_final))"
      ],
      "metadata": {
        "id": "3qfh4V6ngy7b"
      },
      "execution_count": null,
      "outputs": []
    },
    {
      "cell_type": "markdown",
      "source": [
        "Crie um programa que calcule o tempo de uma viagem. Pergunte oa distância e a velocidade média esperada para a viagem. "
      ],
      "metadata": {
        "id": "cd1H-JBdjth0"
      }
    },
    {
      "cell_type": "code",
      "source": [
        "# training 6\n",
        "def viagem():\n",
        "  global distancia\n",
        "  global velocidade\n",
        "  global conta\n",
        "  distancia = int(input(\"Digite a distância da sua viagem:\"))\n",
        "  velocidade = int(input(\"Digite a velocidade média:\"))\n",
        "  conta = distancia/velocidade\n",
        "  return conta\n",
        "# program start\n",
        "tempo = viagem()\n",
        "print(tempo)"
      ],
      "metadata": {
        "id": "xu_hssnrkrcb"
      },
      "execution_count": null,
      "outputs": []
    },
    {
      "cell_type": "markdown",
      "source": [
        "Crie um programa que calcule a média de um aluno"
      ],
      "metadata": {
        "id": "haOjdFRB-0vW"
      }
    },
    {
      "cell_type": "code",
      "source": [
        "# training 7\n",
        "def media():\n",
        "  global nota1\n",
        "  global nota2\n",
        "  global nota3\n",
        "  global nota4\n",
        "  global media\n",
        "  print(\"=-\"*40)\n",
        "  nota1 = float(input(\"Digite a primeira nota:\"))\n",
        "  print(\"=-\"*40)\n",
        "  nota2 = float(input(\"Digite a segunda nota:\"))\n",
        "  print(\"=-\"*40)\n",
        "  nota3 = float(input(\"Digite a terceira nota:\"))\n",
        "  print(\"=-\"*40)\n",
        "  nota4 = float(input(\"Digite a quarta nota:\"))\n",
        "  print(\"=-\"*40)\n",
        "  media = (nota1+nota2+nota3+nota4)/4\n",
        "  return media\n",
        "# program start\n",
        "print(\"=-\"*40)\n",
        "funcao = media()\n",
        "print(\"=-\"*40)\n",
        "print('''Primeira nota:{}\n",
        "Segunda nota:{}\n",
        "Terceira nota:{}\n",
        "Quarta nota:{}\n",
        "media final:{}'''.format(nota1,nota2,nota3,nota4,media))\n",
        "if media < 6:\n",
        "  print(\"Aluno reprovado\")\n",
        "  print(\"=-\"*40)\n",
        "else:\n",
        "  print(\"Aluno aprovado\")\n",
        "  print(\"=-\"*40)"
      ],
      "metadata": {
        "id": "X4uK8bTT-4zl"
      },
      "execution_count": null,
      "outputs": []
    },
    {
      "cell_type": "markdown",
      "source": [
        "Crie um programa que converta reais em dolares e o contrario"
      ],
      "metadata": {
        "id": "zdnIT24MEHuc"
      }
    },
    {
      "cell_type": "code",
      "source": [
        "# training 8\n",
        "def reais_dolar():\n",
        "  global real\n",
        "  global conta1\n",
        "  real = float(input(\"Digite a quantidade de reais que deseja transformar para Dolar:\"))\n",
        "  conta1 = real/5.15\n",
        "  return conta1\n",
        "def dolar_reais():\n",
        "  global dolar \n",
        "  global conta2\n",
        "  dolar = float(input(\"Digite a quantidade Dolar que deseja transformar em reais\"))\n",
        "  conta2 = dolar*5.15\n",
        "  return conta2\n",
        "def menu():\n",
        "  op = int(input('''Menu de conversao\n",
        "  [1]Real para Dolar\n",
        "  [2]Dolar para real'''))\n",
        "  return op\n",
        "# program start\n",
        "op = menu()\n",
        "if op == 1:\n",
        "  reais_dolar()\n",
        "  print(\"A quantidade de Dolar adquirido foi de:${:.2f}\".format(conta1))\n",
        "elif op == 2:\n",
        "  dolar_reais()\n",
        "print(\"A quantidade de reais adquiridos foi de: R${:.2f}\".format(conta2))"
      ],
      "metadata": {
        "id": "AdT9yTdnENzc"
      },
      "execution_count": null,
      "outputs": []
    },
    {
      "cell_type": "markdown",
      "source": [
        "Crie um programa que tranforme graus Celsiu em Fahrenheit e ao contrario"
      ],
      "metadata": {
        "id": "3fhtbxyOYu4l"
      }
    },
    {
      "cell_type": "code",
      "source": [
        "# training 9\n",
        "def celsius_Fahrenheit():\n",
        "  global temp1\n",
        "  global calculo1\n",
        "  temp1 = float(input(\"Digite a temperatura em Celsius:\"))\n",
        "  calculo1 = (temp1*1.8)+32\n",
        "  print(\"A temperatura Celsius C°{} em Fahrenheit é F°{}\".format(temp1,calculo1))\n",
        "  return calculo1\n",
        "def Fahrenheit_celsius():\n",
        "  global temp2\n",
        "  global calculo2\n",
        "  temp2 = float(input(\"Digite a temperatura em Fahrenheit:\"))\n",
        "  calculo2 = (temp2-32)/1.8\n",
        "  print(\"A temperatura Fahrenheit F°{} em Celsius é C°{}\".format(temp2,calculo2))\n",
        "  return calculo2\n",
        "def menu():\n",
        "  op = int(input('''\n",
        "  [1]C° para F°\n",
        "  [2]F° para C°'''))\n",
        "  return op\n",
        "# program start\n",
        "op = menu()\n",
        "if op == 1:\n",
        "  celsius_Fahrenheit()\n",
        "elif op == 2:\n",
        "  Fahrenheit_celsius()"
      ],
      "metadata": {
        "id": "s28pff6BY47O"
      },
      "execution_count": null,
      "outputs": []
    },
    {
      "cell_type": "markdown",
      "source": [
        "Crie um programa que pergunte a quantidade de KM percorrido de um carro alugado assim como a quantidade de dias. Calcule o preço a ser pago pelo usuario sabendo que o carro custa 60,00 por dia e 0,15 por km rodado."
      ],
      "metadata": {
        "id": "KK7KTgkzcTPN"
      }
    },
    {
      "cell_type": "code",
      "source": [
        "# training 10\n",
        "def carro_alugado():\n",
        "  dias = int(input(\"Digite a quantidade de dias:\"))\n",
        "  km = float(input(\"Digite a quantidade km rodados:\"))\n",
        "  conta1 = (dias*60)\n",
        "  conta2 = (km*0.15)\n",
        "  total = conta1+conta2\n",
        "  print('''\n",
        "  Os dias foram:{}\n",
        "  Os km foram:{}\n",
        "  total a pagar:{}'''.format(dias,km,total))\n",
        "  return total\n",
        "# program start\n",
        "carro = carro_alugado()"
      ],
      "metadata": {
        "id": "2FYUupJwc_XF"
      },
      "execution_count": null,
      "outputs": []
    },
    {
      "cell_type": "markdown",
      "source": [
        "Crie um programa que mostre o sucessor e o antecessor de um número fornecido pelo usuario"
      ],
      "metadata": {
        "id": "4WSiScPC6gB0"
      }
    },
    {
      "cell_type": "code",
      "source": [
        "# training 11\n",
        "def sucessor_antecessor():\n",
        "  num = int(input(\"Digite o número:\"))\n",
        "  antecessor = num - 1\n",
        "  sucessor = num +1\n",
        "  print(\"o seu número é {} o antecessor do seu número é {} e o sucessor dele é {}\".format(num,antecessor,sucessor))\n",
        "  return num\n",
        "# program start\n",
        "funcao = sucessor_antecessor()"
      ],
      "metadata": {
        "id": "1FvEKE8q6oQF"
      },
      "execution_count": null,
      "outputs": []
    },
    {
      "cell_type": "markdown",
      "source": [
        "Crie um programa que mostre o dobro o triplo de um número"
      ],
      "metadata": {
        "id": "WJs1u6UX9QsT"
      }
    },
    {
      "cell_type": "code",
      "source": [
        "# training 12\n",
        "def dobro_triplo():\n",
        "  n1 = float(input(\"digite o número:\"))\n",
        "  dobro = (n1**2)\n",
        "  triplo = (n1**3)\n",
        "  print(\"O seu número é {} o dobro dele é {} e o triplo dele é {}\".format(n1,dobro,triplo))\n",
        "# program start\n",
        "funcao = dobro_triplo()"
      ],
      "metadata": {
        "id": "qJRhKIgN9WYD"
      },
      "execution_count": null,
      "outputs": []
    },
    {
      "cell_type": "markdown",
      "source": [
        "Crie um programa de média aritmetica que mostre a média de um aluno e diga no final dependendo da média se ele foi aprovado ou reprovado."
      ],
      "metadata": {
        "id": "Iz6cvUUV-a-a"
      }
    },
    {
      "cell_type": "code",
      "source": [
        "# training 13\n",
        "def media():\n",
        "  global media\n",
        "  print(\"=-\"*40)\n",
        "  nota1 = float(input(\"Digite a primeira nota:\"))\n",
        "  print(\"=-\"*40)\n",
        "  nota2 = float(input(\"Digite a segunda nota:\"))\n",
        "  print(\"=-\"*40)\n",
        "  nota3 = float(input(\"Digite a terceira nota:\"))\n",
        "  print(\"=-\"*40)\n",
        "  media = (nota1+nota2+nota3)/3\n",
        "  if media < 6:\n",
        "    print(\"=-\"*40)\n",
        "    print(\"Aluno reprovado\")\n",
        "    print(\"=-\"*40)\n",
        "  elif media > 6:\n",
        "    print(\"=-\"*40)\n",
        "    print(\"Aluno aprovado\")\n",
        "    print(\"=-\"*40)\n",
        "  return media\n",
        "# program start\n",
        "funcao = media()"
      ],
      "metadata": {
        "id": "2Fo7LR-O-zN7"
      },
      "execution_count": null,
      "outputs": []
    },
    {
      "cell_type": "markdown",
      "source": [
        "Crie um programa que mostre a mensagem \"eu sou o melhor aluno\" enquanto o usuario digitar o número 1, quando for outro numero pare a repetição."
      ],
      "metadata": {
        "id": "a8WOv-OBDgVq"
      }
    },
    {
      "cell_type": "code",
      "source": [
        "# training 14\n",
        "def melhor_aluno():\n",
        "  n1 = 1\n",
        "  while n1 == 1:\n",
        "   n1 = int(input(\"Eu sou o melhor aluno!\"))\n",
        "  print(\"Acabou!\")\n",
        "# program start\n",
        "funcao = melhor_aluno()"
      ],
      "metadata": {
        "id": "QMKc6pXvWy6t"
      },
      "execution_count": null,
      "outputs": []
    },
    {
      "cell_type": "markdown",
      "source": [
        "Crie um programa que fale ao usuario se seu carro é velho ou novo com base na entrada \"Anos\" que o usuario vai dar. 1 a 2 anos = novo e 3 ou maior que 3 = velho.  "
      ],
      "metadata": {
        "id": "ZcDx2Z95Xl1F"
      }
    },
    {
      "cell_type": "code",
      "source": [
        "# training 15\n",
        "def carro_novo_velho():\n",
        "  carro = int(input(\"Digite quantos anos o seu carro tem:\"))\n",
        "  if carro <=2:\n",
        "    print(\"Seu carro é novo!\")\n",
        "  else:\n",
        "    print(\"Seu carro é velho!\")\n",
        "# program start\n",
        "funcao = carro_novo_velho()"
      ],
      "metadata": {
        "id": "jdWlGGVtYFem"
      },
      "execution_count": null,
      "outputs": []
    },
    {
      "cell_type": "markdown",
      "source": [
        "Crie um programa que faça seu computador escolher um npumero entre 0 e 10 aleatoriamente e o usuario tente adivinhar qual numero foi escolhido."
      ],
      "metadata": {
        "id": "9943RHmpYxzS"
      }
    },
    {
      "cell_type": "code",
      "source": [
        "# training 16\n",
        "from random import randint\n",
        "def adivinhar():\n",
        "  numero = int(input(\"Escolha um numero entre 0 e 10:\"))\n",
        "  randint(0,10)\n",
        "  if numero == randint(0,10):\n",
        "    print(\"Seu número é {} e o numero do computador é {} parabens você acertou\".format(numero,randint(0,10)))\n",
        "  elif numero != randint(0,10):\n",
        "    print(\"Seu número é {} e o do computador é {} sinto muito você errou.\".format(numero,randint(0,10)))\n",
        "# program start\n",
        "funcao = adivinhar()"
      ],
      "metadata": {
        "id": "eJRkB2vqZH4i"
      },
      "execution_count": null,
      "outputs": []
    },
    {
      "cell_type": "markdown",
      "source": [
        "Crie uprograma que mostre uma mensagem enquanto o valor atribuido for 0 e quando for outro valor pare de reoetir a mensagem"
      ],
      "metadata": {
        "id": "Beqcquuwbb5S"
      }
    },
    {
      "cell_type": "code",
      "source": [
        "# training 17\n",
        "def correr():\n",
        "  correr = int(input(\"Voce esta correndo digite 0 para continuar e 1 para parar:\"))\n",
        "  while correr == 0:\n",
        "    correr = int(input(\"Voce esta correndo digite 0 para continuar e 1 para parar:\"))\n",
        "  print(\"Voce parou de correr\")\n",
        "  return correr\n",
        "# program start\n",
        "funcao = correr()"
      ],
      "metadata": {
        "id": "nFEYwpdybqgy"
      },
      "execution_count": null,
      "outputs": []
    },
    {
      "cell_type": "markdown",
      "source": [
        "Crie um programa que calcule o preço de uma viagem sabendo que se a distancia da viagem for menor ou igual a 200 o preço do km é de 0,50. E se oa distancia fo maior que 200 o preço é de 0,45."
      ],
      "metadata": {
        "id": "iytBTQh-L6O4"
      }
    },
    {
      "cell_type": "code",
      "source": [
        "# training 18\n",
        "def viagem():\n",
        "  distancia = float(input(\"Digite a distancia da sua viajem:\"))\n",
        "  if distancia <= 200:\n",
        "    calculo = distancia*0.50\n",
        "    print(\"a distancia da sua viajem é {} e vai custar {}\".format(distancia,calculo))\n",
        "  elif distancia > 200:\n",
        "    calculo2 = distancia*0.45\n",
        "    print(\"a distancia da sua viajem é {} e vai custar {}\".format(distancia,calculo2))\n",
        "# program start\n",
        "funcao = viagem()"
      ],
      "metadata": {
        "id": "MOojlZ7hNSJP"
      },
      "execution_count": null,
      "outputs": []
    },
    {
      "cell_type": "markdown",
      "source": [
        "Crie um programa que escolha um nome de uma lista que foi adicionado pelo usuario (como se fosse um sorteio aleatorio)."
      ],
      "metadata": {
        "id": "fdIchSuxR-P8"
      }
    },
    {
      "cell_type": "code",
      "source": [
        "# training 19\n",
        "def sorteio():\n",
        "  import random\n",
        "  n1 = input(\"Digite um nome:\")\n",
        "  n2 = input(\"Digite um nome:\")\n",
        "  n3 = input(\"Digite um nome:\")\n",
        "  lista = [n1,n2,n3]\n",
        "  random.choice(lista)\n",
        "  print(\"O nome escolhido foi {}\".format(random.choice(lista)))\n",
        "  return\n",
        "# program start\n",
        "funcao = sorteio()"
      ],
      "metadata": {
        "id": "2QbnnOOtSyuz"
      },
      "execution_count": null,
      "outputs": []
    },
    {
      "cell_type": "markdown",
      "source": [
        "Crie um programa que transforme numeros decimais em binario,octal e hexadecimal"
      ],
      "metadata": {
        "id": "CwzBQ1TqUjKD"
      }
    },
    {
      "cell_type": "code",
      "source": [
        "# training 20\n",
        "def trans_bases():\n",
        "  global decimal\n",
        "  global op\n",
        "  decimal = int(input(\"Digite o numero decimal que deseja tranformar:\"))\n",
        "  op = int(input('''escolha uma das opções abaixo\n",
        "  [1]Bin\n",
        "  [2]Octal\n",
        "  [3]Hexadecimal'''))\n",
        "# program start\n",
        "funcao = trans_bases()\n",
        "if op == 1:\n",
        "  print(\"O numero {:.0f} em binario é igal a {}\".format(decimal,bin(decimal)))\n",
        "elif op == 2:\n",
        "  print(\"O numero {:.0f} em Octal é igual a {}\".format(decimal,oct(decimal)))\n",
        "elif op == 3:\n",
        "  print(\"O numero {:.0f} em Hexadecimal é igual a {}\".format(decimal,hex(decimal)))\n"
      ],
      "metadata": {
        "id": "GZiyBI3cVJ0T"
      },
      "execution_count": null,
      "outputs": []
    }
  ]
}
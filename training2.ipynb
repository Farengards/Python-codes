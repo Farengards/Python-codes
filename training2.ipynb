{
  "nbformat": 4,
  "nbformat_minor": 0,
  "metadata": {
    "colab": {
      "name": "training2.ipynb",
      "provenance": [],
      "authorship_tag": "ABX9TyPprhA5Wuc9UhkiKSaWAT15",
      "include_colab_link": true
    },
    "kernelspec": {
      "name": "python3",
      "display_name": "Python 3"
    },
    "language_info": {
      "name": "python"
    }
  },
  "cells": [
    {
      "cell_type": "markdown",
      "metadata": {
        "id": "view-in-github",
        "colab_type": "text"
      },
      "source": [
        "<a href=\"https://colab.research.google.com/github/Farengards/Python-codes/blob/main/training2.ipynb\" target=\"_parent\"><img src=\"https://colab.research.google.com/assets/colab-badge.svg\" alt=\"Open In Colab\"/></a>"
      ]
    },
    {
      "cell_type": "markdown",
      "source": [
        "Crie um programa que compare numeros para saber qual é maior, qual é menor e se sao iguais."
      ],
      "metadata": {
        "id": "G4XxXKUxq5PH"
      }
    },
    {
      "cell_type": "code",
      "source": [
        "# training 21\n",
        "def comparar():\n",
        "  n1 = int(input(\"Digite o primeor número:\"))\n",
        "  n2 = int(input(\"Digite o segundo numero:\"))\n",
        "  if n1 > n2:\n",
        "    print(\"O número {} é maior que o número {}\".format(n1,n2))\n",
        "  elif n1 < n2:\n",
        "    print(\"O número {} é menor que o número {}\".format(n1,n2))\n",
        "  else:\n",
        "    print(\"O número {} é igual o número {}\".format(n1,n2))\n",
        "  return n1 and n2\n",
        "# program start\n",
        "funcao = comparar()"
      ],
      "metadata": {
        "id": "oStB7BmurEAX"
      },
      "execution_count": null,
      "outputs": []
    },
    {
      "cell_type": "markdown",
      "source": [
        "Crie um programa que receba a data de nascimento do usuario e diga a ele se esta na hora de se alistar, se ja passou da hora, ou se ainda vai se alistar."
      ],
      "metadata": {
        "id": "FwNMwpUZt2cH"
      }
    },
    {
      "cell_type": "code",
      "source": [
        "# training 22\n",
        "def alistar():\n",
        "  nascimento = int(input(\"Digite seu ano de nascimento:\"))\n",
        "  ano_atual = int(2022)\n",
        "  idade = ano_atual-nascimento\n",
        "  print(\"Sua idade é {}\".format(idade))\n",
        "  if idade > 18:\n",
        "    ano_alist = idade-18\n",
        "    print(\"Deveria ter se alistado a {} anos\".format(ano_alist))\n",
        "  elif idade == 18:\n",
        "    print(\"Deve se alistar IMEDIATAMENTE!\")\n",
        "  elif idade < 18:\n",
        "    falta = 18-idade\n",
        "    print(\"Faltam {} anos para você se alistar\".format(falta))\n",
        "    return nascimento\n",
        "# program start\n",
        "funcao = alistar()"
      ],
      "metadata": {
        "id": "vFzHhbIhuhg3"
      },
      "execution_count": null,
      "outputs": []
    },
    {
      "cell_type": "markdown",
      "source": [
        "Crie um programa q simule uma loja com diferentes tipos de forma de pagamento cada uma com sua porcentagem de desconto."
      ],
      "metadata": {
        "id": "5sdf1hOOxSB9"
      }
    },
    {
      "cell_type": "code",
      "source": [
        "# training 23\n",
        "def loja():\n",
        "\n",
        "  preco_compra = float(input(\"Preço das compras:\"))\n",
        "  opcao = int((input('''FORMAS DE PAGAMENTO\n",
        "  [1]Dinheiro/Cheque\n",
        "  [2]A vista cartão\n",
        "  [3]2x no cartão\n",
        "  [4]3x ou mais no cartão\n",
        "  Qual sua opção?''')))\n",
        "  if opcao == 1:\n",
        "    desconto = preco_compra * 10 / 100\n",
        "    print('''Sua compra no valor de R${:.2f} recebeu 10% de desconto e ficou com o novo valor de:R${:.2f}'''.format(preco_compra,preco_compra-desconto))\n",
        "  elif opcao == 2:\n",
        "    desc_cart = preco_compra * 5 / 100\n",
        "    print(\"Sua compra no valor de R${:.2f} a vista no cartao recebeu um desconto de 5% e ficou no valor de R${:.2f}\".format(preco_compra,preco_compra - desc_cart))\n",
        "  elif opcao == 3:\n",
        "    duas_vezes_cart = preco_compra/2\n",
        "    print(\"Sua compra no valor de R${:.2f} dividida em 2x no catão ficou no valor de 2x de R${:.2f}\".format(preco_compra,duas_vezes_cart))\n",
        "  elif opcao == 4:\n",
        "    parcelas = int(input(\"Quantas vezes deseja dividir sua compra?\"))\n",
        "    parcelado = preco_compra + (preco_compra * 20 / 100) \n",
        "    print(\"Sua compras no valor de R${:.2f} ficou parcelada em {}x com taxa de 20% de juros, novo valor de R${:.2f}\".format(preco_compra,parcelas,parcelado))\n",
        "# program start\n",
        "funcao = loja()"
      ],
      "metadata": {
        "id": "lnkQdpNDxZ_c"
      },
      "execution_count": null,
      "outputs": []
    },
    {
      "cell_type": "markdown",
      "source": [
        "Crie um programa que resolva inequações do segundo grau"
      ],
      "metadata": {
        "id": "9kWzrDpvx64I"
      }
    },
    {
      "cell_type": "code",
      "source": [
        "# training 24\n",
        "def ineq():\n",
        "  import math\n",
        "  print('Equaçao do 2o grau da forma: ax² + bx + c')\n",
        "  a = int( input('Coeficiente a: ') )\n",
        "  if(a==0):\n",
        "    print('Se a=0, não é equação do segundo grau. Tchau')\n",
        "  else:\n",
        "   b = int( input('Coeficiente b: ') )\n",
        "   c = int( input('Coeficiente c: ') )\n",
        "   delta = b*b - (4*a*c)\n",
        "  if delta<0:\n",
        "    print('Delta menor que 0. Raízes imaginárias.')\n",
        "  elif delta==0:\n",
        "   raiz = -b / (2*a)\n",
        "   print('Delta=0 , raiz = ',raiz)\n",
        "  else:\n",
        "    raiz1 = (-b + math.sqrt(delta) ) / (2*a)\n",
        "    raiz2 = (-b - math.sqrt(delta) ) / (2*a)\n",
        "    print('Raizes: ',raiz1,' e ',raiz2)\n",
        "    return a and b and c\n",
        "# program start\n",
        "funcao = ineq()"
      ],
      "metadata": {
        "id": "3FJ2Q5yZx_T4"
      },
      "execution_count": null,
      "outputs": []
    },
    {
      "cell_type": "markdown",
      "source": [
        "Crie um programa que compare os lado de um triangulo e diga qual seu tipo de triangulo"
      ],
      "metadata": {
        "id": "EpXwlOeqynV1"
      }
    },
    {
      "cell_type": "code",
      "source": [
        "def triangulo():\n",
        "  a = float(input(\"Digite o 1° valor:\"))\n",
        "  b = float(input(\"Digite o 2° valor: \"))\n",
        "  c = float(input(\"Digite o 3° valor: \"))\n",
        "  if (a + b < c) or (a + c < b) or (b + c < a):\n",
        "    print(\"Não é um triangulo\" )\n",
        "  elif (a == b) and (a == c):\n",
        "    print(\"Ele é equilatero\")\n",
        "  elif(a == b ) or (a == c) or (b == c):\n",
        "    print(\"Ele é isósceles\")\n",
        "  else:\n",
        "    print(\"Ele é escaleno\")\n",
        "# program start\n",
        "funcao = triangulo()"
      ],
      "metadata": {
        "id": "_hTaJrvCysvG"
      },
      "execution_count": null,
      "outputs": []
    }
  ]
}
{
  "nbformat": 4,
  "nbformat_minor": 0,
  "metadata": {
    "colab": {
      "name": "training-3.ipynb",
      "provenance": [],
      "authorship_tag": "ABX9TyOna+KhYVQxXRnbVDWmZ0mH",
      "include_colab_link": true
    },
    "kernelspec": {
      "name": "python3",
      "display_name": "Python 3"
    },
    "language_info": {
      "name": "python"
    }
  },
  "cells": [
    {
      "cell_type": "markdown",
      "metadata": {
        "id": "view-in-github",
        "colab_type": "text"
      },
      "source": [
        "<a href=\"https://colab.research.google.com/github/Farengards/Python-codes/blob/main/training_3.ipynb\" target=\"_parent\"><img src=\"https://colab.research.google.com/assets/colab-badge.svg\" alt=\"Open In Colab\"/></a>"
      ]
    },
    {
      "cell_type": "markdown",
      "source": [
        "Create a program that validates username and password"
      ],
      "metadata": {
        "id": "Ig0xz7KtKl5w"
      }
    },
    {
      "cell_type": "code",
      "execution_count": null,
      "metadata": {
        "id": "rY1zKCUcKVLn"
      },
      "outputs": [],
      "source": [
        "# 40 username and password validation\n",
        "usuario = input(\"Digite o nome do usuário:\")\n",
        "senha = input(\"Digite uma senha:\")\n",
        "while usuario == senha:\n",
        "  print(\"O usuario nao pode ser igual a senha:\")\n",
        "  senha = input(\"Digite uma senha:\")\n",
        "print(\"Entrou com sucesso\")"
      ]
    },
    {
      "cell_type": "markdown",
      "source": [
        "Create a program to record a user's gender"
      ],
      "metadata": {
        "id": "d2IvtCoZK502"
      }
    },
    {
      "cell_type": "code",
      "source": [
        "# 38 register sex\n",
        "sexo = str(input(\"informe seu sexo: [M/F]\")).strip().upper()[0]\n",
        "while sexo not in 'MmFf':\n",
        "  sexo = str(input(\"Dados invalidos,por favor digite seu sexo: [M/F]\")).strip().upper()[0]\n",
        "print(\"Sexo {} salvo com sucesso.\".format(sexo))"
      ],
      "metadata": {
        "id": "NVwyD3UPKvZO"
      },
      "execution_count": null,
      "outputs": []
    },
    {
      "cell_type": "markdown",
      "source": [
        "Create a program that validates the variables Name, age, salary and gender of a user"
      ],
      "metadata": {
        "id": "Dtwd15EWLK5_"
      }
    },
    {
      "cell_type": "code",
      "source": [
        "# 41 data validation\n",
        "nome = input(\"Digite seu nome:\")\n",
        "print(\"==\"*40)\n",
        "idade = int(input(\"Digite sua idade: [Idade deve ser entre 0 e 150]\"))\n",
        "print(\"==\"*40)\n",
        "salario = float(input(\"Digite eu salario: [tem que ser maior que zero]\"))\n",
        "print(\"==\"*40)\n",
        "sexo = input(\"Digite seu sexo: ['f' para feminino e 'm para masculino']\")\n",
        "print(\"==\"*40)\n",
        "while len(nome) < 3:\n",
        "  nome = input(\"O nome deve ter 3 ou mais letras:\")\n",
        "print(\"O nome {} foi salvo com sucesso\".format(nome))\n",
        "while (idade < 0) or (idade > 150) :\n",
        "  idade = int(input(\"Sua idae deve ser entre 0 e 150:\"))\n",
        "print(\"idade {} salva com sucesso\".format(idade))\n",
        "while salario <= 0:\n",
        "  salario = float(input(\"O salário deve ser maior que 0:\"))\n",
        "print(\"O salário {} foi salvo com sucesso\".format(salario))\n",
        "while sexo not in \"FfMm\":\n",
        "  sexo = input(\"Digite um opção valida: [F ou f ou M ou m]\")\n",
        "print(\"A opção {} foi salva cmo sucesso\".format(sexo))\n",
        "print(\"==\"*40)\n",
        "print('''Ficha do candidato\n",
        "Nome:{}\n",
        "Idade:{}\n",
        "Salario:{}\n",
        "Sexo:{}'''.format(nome,idade,salario,sexo))\n",
        "print(\"==\"*40)"
      ],
      "metadata": {
        "id": "0e_XgstgLZNf"
      },
      "execution_count": null,
      "outputs": []
    },
    {
      "cell_type": "markdown",
      "source": [
        "Create a program that controls a smart light bulb that turns on, off and on to see the current status of the light bulb"
      ],
      "metadata": {
        "id": "jzQeK6zkLkDe"
      }
    },
    {
      "cell_type": "code",
      "source": [
        "# 45 Lampada\n",
        "def menu():\n",
        "    print('''***menu lampada***\n",
        "    [0]sair\n",
        "    [1]acender\n",
        "    [2]apagar\n",
        "    [3]consultar\n",
        "    ''')\n",
        "    global op\n",
        "    op = int(input('quer entrar?[1]sim [2]nao : '))\n",
        "    return op\n",
        "op = 1\n",
        "menu()\n",
        "lampada = \"\"\n",
        "estado = ''\n",
        "def acessa():\n",
        "    lampada = \"acessa\"\n",
        "    print(\"luz\",lampada)\n",
        "    return lampada\n",
        "def apagada():\n",
        "    lampada = \"apagada\"\n",
        "    print(\"luz\",lampada)\n",
        "    return apagada\n",
        "def consulta():\n",
        "    if estado == \"acessa\":\n",
        "        print(\"luz acessa\")\n",
        "    else:\n",
        "        print(\"luz apagada\")\n",
        "while op != 0 : \n",
        "    op = int(input('oq fazer?: '))\n",
        "    if op == 1:\n",
        "        acessa()\n",
        "        estado = \"acessa\"\n",
        "    elif op == 2:\n",
        "      apagada()\n",
        "      estado = \"apagada\"\n",
        "    elif op == 3:\n",
        "        consulta()\n",
        "    else:\n",
        "        print(\"saindo\")"
      ],
      "metadata": {
        "id": "-Z-iFhPBLk0J"
      },
      "execution_count": null,
      "outputs": []
    }
  ]
}